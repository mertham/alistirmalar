{
 "cells": [
  {
   "cell_type": "code",
   "execution_count": 17,
   "metadata": {},
   "outputs": [
    {
     "name": "stdout",
     "output_type": "stream",
     "text": [
      "pi sayısı:  3.1414971543976273\n"
     ]
    }
   ],
   "source": [
    "#pi sayısı hesabı\n",
    "sayac = 0\n",
    "i = 1\n",
    "while(i>0):\n",
    "    sayac = sayac + 1/i**2\n",
    "    i+=1\n",
    "    if i==10000 :\n",
    "        break\n",
    "pi = (6*sayac)**(1/2)\n",
    "print(\"pi sayısı: \",pi)\n"
   ]
  },
  {
   "cell_type": "code",
   "execution_count": null,
   "metadata": {},
   "outputs": [],
   "source": []
  }
 ],
 "metadata": {
  "kernelspec": {
   "display_name": "Python 3",
   "language": "python",
   "name": "python3"
  },
  "language_info": {
   "codemirror_mode": {
    "name": "ipython",
    "version": 3
   },
   "file_extension": ".py",
   "mimetype": "text/x-python",
   "name": "python",
   "nbconvert_exporter": "python",
   "pygments_lexer": "ipython3",
   "version": "3.7.3"
  }
 },
 "nbformat": 4,
 "nbformat_minor": 2
}
