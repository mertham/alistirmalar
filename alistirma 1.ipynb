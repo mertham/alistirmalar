{
 "cells": [
  {
   "cell_type": "code",
   "execution_count": 10,
   "metadata": {},
   "outputs": [
    {
     "name": "stdout",
     "output_type": "stream",
     "text": [
      "19\n",
      "41\n",
      "66\n",
      "94\n",
      "125\n",
      "159\n",
      "196\n",
      "236\n",
      "279\n",
      "325\n",
      "374\n",
      "426\n",
      "481\n",
      "539\n",
      "600\n",
      "664\n",
      "731\n",
      "801\n",
      "874\n",
      "950\n",
      "1029\n",
      "1111\n",
      "1196\n",
      "1284\n",
      "1375\n",
      "1469\n",
      "1566\n",
      "1666\n",
      "1769\n",
      "1875\n",
      "1984\n",
      "2096\n",
      "2211\n",
      "2329\n",
      "2450\n",
      "2574\n",
      "2701\n",
      "2831\n",
      "2964\n",
      "3100\n",
      "3239\n",
      "3381\n",
      "3526\n",
      "3674\n",
      "3825\n",
      "3979\n",
      "4136\n",
      "4296\n",
      "4459\n",
      "4625\n",
      "4794\n",
      "4966\n",
      "5141\n",
      "5319\n",
      "5500\n",
      "5684\n",
      "5871\n",
      "6061\n",
      "6254\n",
      "6450\n",
      "6649\n",
      "6851\n"
     ]
    }
   ],
   "source": [
    "#19+22+25....+202 sayısal değer hesabı\n",
    "sayac = 0\n",
    "for i in range(19,203,3):\n",
    "    sayac = sayac + i\n",
    "print(sayac)"
   ]
  },
  {
   "cell_type": "code",
   "execution_count": null,
   "metadata": {},
   "outputs": [],
   "source": []
  }
 ],
 "metadata": {
  "kernelspec": {
   "display_name": "Python 3",
   "language": "python",
   "name": "python3"
  },
  "language_info": {
   "codemirror_mode": {
    "name": "ipython",
    "version": 3
   },
   "file_extension": ".py",
   "mimetype": "text/x-python",
   "name": "python",
   "nbconvert_exporter": "python",
   "pygments_lexer": "ipython3",
   "version": "3.7.3"
  }
 },
 "nbformat": 4,
 "nbformat_minor": 2
}
