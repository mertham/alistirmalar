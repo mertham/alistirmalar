{
 "cells": [
  {
   "cell_type": "code",
   "execution_count": 11,
   "metadata": {},
   "outputs": [
    {
     "name": "stdout",
     "output_type": "stream",
     "text": [
      "e sayısı :  2.7182818284590455\n"
     ]
    }
   ],
   "source": [
    "#e sayısı hesabı\n",
    "sayac = 0\n",
    "faktoryal = 1\n",
    "for x in range(1,1000) :\n",
    "    faktoryal = faktoryal * x\n",
    "    sayac = sayac + 1/faktoryal\n",
    "e = 1 + sayac\n",
    "print(\"e sayısı : \",e)\n"
   ]
  },
  {
   "cell_type": "code",
   "execution_count": null,
   "metadata": {},
   "outputs": [],
   "source": []
  }
 ],
 "metadata": {
  "kernelspec": {
   "display_name": "Python 3",
   "language": "python",
   "name": "python3"
  },
  "language_info": {
   "codemirror_mode": {
    "name": "ipython",
    "version": 3
   },
   "file_extension": ".py",
   "mimetype": "text/x-python",
   "name": "python",
   "nbconvert_exporter": "python",
   "pygments_lexer": "ipython3",
   "version": "3.7.3"
  }
 },
 "nbformat": 4,
 "nbformat_minor": 2
}
