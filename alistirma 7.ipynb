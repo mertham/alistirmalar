{
 "cells": [
  {
   "cell_type": "code",
   "execution_count": 6,
   "metadata": {},
   "outputs": [
    {
     "name": "stdout",
     "output_type": "stream",
     "text": [
      "101\n",
      "112\n",
      "123\n",
      "134\n",
      "145\n",
      "156\n",
      "167\n",
      "178\n",
      "189\n",
      "202\n",
      "213\n",
      "224\n",
      "235\n",
      "246\n",
      "257\n",
      "268\n",
      "279\n",
      "303\n",
      "314\n",
      "325\n",
      "336\n",
      "347\n",
      "358\n",
      "369\n",
      "404\n",
      "415\n",
      "426\n",
      "437\n",
      "448\n",
      "459\n",
      "505\n",
      "516\n",
      "527\n",
      "538\n",
      "549\n",
      "606\n",
      "617\n",
      "628\n",
      "639\n",
      "707\n",
      "718\n",
      "729\n",
      "808\n",
      "819\n",
      "909\n",
      "ilk iki rakamının toplamı son rakamına eşit olan sayı adedi :  45\n"
     ]
    }
   ],
   "source": [
    "sayac = 0\n",
    "for a in range(1,10):\n",
    "    for b in range(0,10):\n",
    "        for c in range(0,10):\n",
    "            if(a+b == c):\n",
    "                print(a,b,c,sep=\"\")\n",
    "                sayac+=1\n",
    "print(\"ilk iki rakamının toplamı son rakamına eşit olan sayı adedi : \",sayac)\n",
    "                \n"
   ]
  },
  {
   "cell_type": "code",
   "execution_count": null,
   "metadata": {},
   "outputs": [],
   "source": []
  }
 ],
 "metadata": {
  "kernelspec": {
   "display_name": "Python 3",
   "language": "python",
   "name": "python3"
  },
  "language_info": {
   "codemirror_mode": {
    "name": "ipython",
    "version": 3
   },
   "file_extension": ".py",
   "mimetype": "text/x-python",
   "name": "python",
   "nbconvert_exporter": "python",
   "pygments_lexer": "ipython3",
   "version": "3.7.3"
  }
 },
 "nbformat": 4,
 "nbformat_minor": 2
}
